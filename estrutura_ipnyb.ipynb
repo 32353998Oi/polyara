{
  "nbformat": 4,
  "nbformat_minor": 0,
  "metadata": {
    "colab": {
      "provenance": [],
      "authorship_tag": "ABX9TyNvVAchtE5dxSdfFdQ26gD5",
      "include_colab_link": true
    },
    "kernelspec": {
      "name": "python3",
      "display_name": "Python 3"
    },
    "language_info": {
      "name": "python"
    }
  },
  "cells": [
    {
      "cell_type": "markdown",
      "metadata": {
        "id": "view-in-github",
        "colab_type": "text"
      },
      "source": [
        "<a href=\"https://colab.research.google.com/github/polyaralima/polyara/blob/main/estrutura_ipnyb.ipynb\" target=\"_parent\"><img src=\"https://colab.research.google.com/assets/colab-badge.svg\" alt=\"Open In Colab\"/></a>"
      ]
    },
    {
      "cell_type": "code",
      "execution_count": null,
      "metadata": {
        "colab": {
          "base_uri": "https://localhost:8080/"
        },
        "id": "dL5rpOeK4ccm",
        "outputId": "bd407841-0cbe-4f27-f9dc-cc9570e76cc3"
      },
      "outputs": [
        {
          "output_type": "stream",
          "name": "stdout",
          "text": [
            "Digite nota 1:5\n",
            "Digite nota 2:3\n",
            "Digite nota 3:3\n",
            "3.6666666666666665\n",
            "reprovado\n"
          ]
        }
      ],
      "source": [
        "nota1 = int(input(\"Digite nota 1:\"))\n",
        "nota2 = int(input(\"Digite nota 2:\"))\n",
        "nota3 = int(input(\"Digite nota 3:\")) \n",
        "media = (nota1 + nota2 + nota3) /3\n",
        "\n",
        "print(media)\n",
        "if media >= 7:\n",
        " print(\"aprovado\")\n",
        "elif media == 10:\n",
        " print(\"Aprovado com distinção\")\n",
        "else:\n",
        " print(\"reprovado\")"
      ]
    },
    {
      "cell_type": "code",
      "source": [
        "\n",
        "from random import randint\n",
        "cliente = randint(0,10)\n",
        "acertou = False\n",
        "while not acertou:\n",
        "  cliente1 = int(input('Digite o numero que voce esta pensando:'))\n",
        "  if cliente1 == cliente:\n",
        "    acertou = True\n",
        "    print(f'Voce acertou, parabens!!!!')\n",
        "  else:\n",
        "    print(f'Numero errado tente outra vez!')"
      ],
      "metadata": {
        "colab": {
          "base_uri": "https://localhost:8080/"
        },
        "id": "eXVsidAd8qy5",
        "outputId": "69d8e8c9-12c5-453e-a0fd-ba39d811a7c0"
      },
      "execution_count": null,
      "outputs": [
        {
          "output_type": "stream",
          "name": "stdout",
          "text": [
            "Digite o numero que voce esta pensando:1\n",
            "Numero errado tente outra vez!\n",
            "Digite o numero que voce esta pensando:2\n",
            "Numero errado tente outra vez!\n",
            "Digite o numero que voce esta pensando:3\n",
            "Numero errado tente outra vez!\n",
            "Digite o numero que voce esta pensando:4\n",
            "Numero errado tente outra vez!\n",
            "Digite o numero que voce esta pensando:5\n",
            "Numero errado tente outra vez!\n",
            "Digite o numero que voce esta pensando:6\n",
            "Numero errado tente outra vez!\n",
            "Digite o numero que voce esta pensando:7\n",
            "Numero errado tente outra vez!\n",
            "Digite o numero que voce esta pensando:8\n",
            "Voce acertou, parabens!!!!\n"
          ]
        }
      ]
    },
    {
      "cell_type": "code",
      "source": [
        "ano = int(input('Digite o ano escolhido: '))\n",
        "b = ''\n",
        "# Verificando se o ano é Bissexto\n",
        "\n",
        "if (ano % 4) == 0 and (ano % 100) == 0 and (ano % 400) == 0:\n",
        "  print('O ano é bissexto!')\n",
        "  b = True\n",
        "elif (ano % 4) != 0:\n",
        "  print('O ano não é bissexto!')\n",
        "  b = False\n",
        "elif (ano % 4) == 0 and (ano % 100) != 0:\n",
        "  print('O ano é bissexto!')\n",
        "  b = True\n",
        "elif (ano % 4) == 0 and (ano % 100) == 0 and (ano % 400) != 0:\n",
        "  print('O ano não é bissexto!')\n",
        "  b = False"
      ],
      "metadata": {
        "colab": {
          "base_uri": "https://localhost:8080/"
        },
        "id": "TEncZqP1ADml",
        "outputId": "bd196055-9a33-4e3e-f45a-fabfe92c77a5"
      },
      "execution_count": null,
      "outputs": [
        {
          "output_type": "stream",
          "name": "stdout",
          "text": [
            "Digite o ano escolhido: 2024\n",
            "O ano é bissexto!\n"
          ]
        }
      ]
    },
    {
      "cell_type": "code",
      "source": [
        "idade = []\n",
        "altura = []\n",
        "\n",
        "for valor in range(0,5):\n",
        "  idade.append(int(input(\"Digita a idade:\")))\n",
        "  altura.append(float(input(\"Digite a altura:\")))\n",
        "\n",
        "print(\"altura na ordem inversa:\")\n",
        "for valor in range(0,5):\n",
        "  print(altura[len(altura)-1-valor])\n",
        "\n",
        "print(\"idade na ordem inversa:\")\n",
        "for valor in range(0,5):\n",
        "  print(idade[len(idade)-1-valor])\n",
        "\n",
        "    "
      ],
      "metadata": {
        "id": "V6e7kLFemIx9"
      },
      "execution_count": null,
      "outputs": []
    },
    {
      "cell_type": "code",
      "source": [
        "numero = int(input('Pense em um numero e digite:'))\n",
        "print(int(str(numero)[::-1]))"
      ],
      "metadata": {
        "id": "Wi5c4dpkxhzC",
        "colab": {
          "base_uri": "https://localhost:8080/"
        },
        "outputId": "dcd79f97-581f-4b84-deec-f26746c2fbf1"
      },
      "execution_count": null,
      "outputs": [
        {
          "output_type": "stream",
          "name": "stdout",
          "text": [
            "Pense em um numero e digite:20\n",
            "2\n"
          ]
        }
      ]
    }
  ]
}